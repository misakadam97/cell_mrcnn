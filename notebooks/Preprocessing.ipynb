{
 "cells": [
  {
   "cell_type": "code",
   "execution_count": 1,
   "metadata": {},
   "outputs": [],
   "source": [
    "from cell_mrcnn.utils import preproc_pipeline, get_cell_mrcnn_path_from_config_file, get_image_paths, convert_to_bit8\n",
    "from cell_mrcnn.data import calculate_percentiles, preprocess, calc_avg_pixel_value, copy_annotated, CellTransformData\n",
    "from skimage.io import imread\n",
    "from PIL import Image\n",
    "from os.path import join, isdir, split, dirname, realpath\n",
    "from os import mkdir\n",
    "import os\n",
    "import glob\n",
    "import argparse\n",
    "from pathlib import Path\n",
    "from PIL import Image\n",
    "from glob import glob"
   ]
  },
  {
   "cell_type": "code",
   "execution_count": 2,
   "metadata": {},
   "outputs": [],
   "source": [
    "# if u dont want to use the get_cell_mrcnn_path_from_config_file() u can just write your path/to/data folder below\n",
    "data_dir = join(get_cell_mrcnn_path_from_config_file(), 'data')"
   ]
  },
  {
   "cell_type": "code",
   "execution_count": 3,
   "metadata": {},
   "outputs": [],
   "source": [
    "ven_1210 = get_image_paths(join(data_dir,'20201210'), channels=('Venus'))"
   ]
  },
  {
   "cell_type": "code",
   "execution_count": 4,
   "metadata": {},
   "outputs": [],
   "source": [
    "# these show the mean percentiles (for 8 bit conversion for the cutoff).\n",
    "ven_1210_perc_df = calculate_percentiles(ven_1210)"
   ]
  },
  {
   "cell_type": "code",
   "execution_count": 5,
   "metadata": {},
   "outputs": [
    {
     "data": {
      "text/html": [
       "<div>\n",
       "<style scoped>\n",
       "    .dataframe tbody tr th:only-of-type {\n",
       "        vertical-align: middle;\n",
       "    }\n",
       "\n",
       "    .dataframe tbody tr th {\n",
       "        vertical-align: top;\n",
       "    }\n",
       "\n",
       "    .dataframe thead th {\n",
       "        text-align: right;\n",
       "    }\n",
       "</style>\n",
       "<table border=\"1\" class=\"dataframe\">\n",
       "  <thead>\n",
       "    <tr style=\"text-align: right;\">\n",
       "      <th></th>\n",
       "      <th>99.0000</th>\n",
       "      <th>99.9000</th>\n",
       "      <th>99.9900</th>\n",
       "      <th>99.9990</th>\n",
       "      <th>99.9999</th>\n",
       "      <th>100.0000</th>\n",
       "    </tr>\n",
       "  </thead>\n",
       "  <tbody>\n",
       "    <tr>\n",
       "      <th>146</th>\n",
       "      <td>389</td>\n",
       "      <td>930</td>\n",
       "      <td>1872.53</td>\n",
       "      <td>3294</td>\n",
       "      <td>3294</td>\n",
       "      <td>3294</td>\n",
       "    </tr>\n",
       "    <tr>\n",
       "      <th>147</th>\n",
       "      <td>685</td>\n",
       "      <td>2627</td>\n",
       "      <td>4625</td>\n",
       "      <td>6248</td>\n",
       "      <td>6248</td>\n",
       "      <td>6248</td>\n",
       "    </tr>\n",
       "    <tr>\n",
       "      <th>148</th>\n",
       "      <td>1033</td>\n",
       "      <td>3472</td>\n",
       "      <td>4404</td>\n",
       "      <td>5124</td>\n",
       "      <td>5124</td>\n",
       "      <td>5124</td>\n",
       "    </tr>\n",
       "    <tr>\n",
       "      <th>149</th>\n",
       "      <td>1218</td>\n",
       "      <td>4421</td>\n",
       "      <td>7284</td>\n",
       "      <td>8185</td>\n",
       "      <td>8185</td>\n",
       "      <td>8185</td>\n",
       "    </tr>\n",
       "    <tr>\n",
       "      <th>min</th>\n",
       "      <td>0</td>\n",
       "      <td>0</td>\n",
       "      <td>10</td>\n",
       "      <td>173</td>\n",
       "      <td>173</td>\n",
       "      <td>173</td>\n",
       "    </tr>\n",
       "    <tr>\n",
       "      <th>max</th>\n",
       "      <td>1588.25</td>\n",
       "      <td>4646</td>\n",
       "      <td>8502</td>\n",
       "      <td>10841</td>\n",
       "      <td>10841</td>\n",
       "      <td>10841</td>\n",
       "    </tr>\n",
       "    <tr>\n",
       "      <th>mean</th>\n",
       "      <td>659.158</td>\n",
       "      <td>2042.64</td>\n",
       "      <td>3173.78</td>\n",
       "      <td>3724.93</td>\n",
       "      <td>3724.93</td>\n",
       "      <td>3724.93</td>\n",
       "    </tr>\n",
       "    <tr>\n",
       "      <th>median</th>\n",
       "      <td>627</td>\n",
       "      <td>2005.5</td>\n",
       "      <td>3193.99</td>\n",
       "      <td>3620.5</td>\n",
       "      <td>3620.5</td>\n",
       "      <td>3620.5</td>\n",
       "    </tr>\n",
       "    <tr>\n",
       "      <th>var</th>\n",
       "      <td>113372</td>\n",
       "      <td>961462</td>\n",
       "      <td>2.11575e+06</td>\n",
       "      <td>3.12314e+06</td>\n",
       "      <td>3.12314e+06</td>\n",
       "      <td>3.12314e+06</td>\n",
       "    </tr>\n",
       "    <tr>\n",
       "      <th>std</th>\n",
       "      <td>336.707</td>\n",
       "      <td>980.541</td>\n",
       "      <td>1454.56</td>\n",
       "      <td>1767.24</td>\n",
       "      <td>1767.24</td>\n",
       "      <td>1767.24</td>\n",
       "    </tr>\n",
       "  </tbody>\n",
       "</table>\n",
       "</div>"
      ],
      "text/plain": [
       "       99.0000  99.9000      99.9900      99.9990      99.9999      100.0000\n",
       "146         389      930      1872.53         3294         3294         3294\n",
       "147         685     2627         4625         6248         6248         6248\n",
       "148        1033     3472         4404         5124         5124         5124\n",
       "149        1218     4421         7284         8185         8185         8185\n",
       "min           0        0           10          173          173          173\n",
       "max     1588.25     4646         8502        10841        10841        10841\n",
       "mean    659.158  2042.64      3173.78      3724.93      3724.93      3724.93\n",
       "median      627   2005.5      3193.99       3620.5       3620.5       3620.5\n",
       "var      113372   961462  2.11575e+06  3.12314e+06  3.12314e+06  3.12314e+06\n",
       "std     336.707  980.541      1454.56      1767.24      1767.24      1767.24"
      ]
     },
     "execution_count": 5,
     "metadata": {},
     "output_type": "execute_result"
    }
   ],
   "source": [
    "ven_1210_perc_df.loc[ven_1210_perc_df.index[-10:],:]"
   ]
  },
  {
   "cell_type": "code",
   "execution_count": 6,
   "metadata": {},
   "outputs": [],
   "source": [
    "# the annotations go to the preproc_output_dir as well\n",
    "preproc_output_dir = join(data_dir,'20201210/preprocessed/venus')"
   ]
  },
  {
   "cell_type": "code",
   "execution_count": 7,
   "metadata": {},
   "outputs": [],
   "source": [
    "if not isdir(join(data_dir,'20201210/preprocessed')):\n",
    "    mkdir(join(data_dir,'20201210/preprocessed'))\n",
    "if not isdir(preproc_output_dir):\n",
    "    mkdir(preproc_output_dir)\n",
    "for i, impath in enumerate(ven_1210):\n",
    "    im = imread(impath)\n",
    "    im = convert_to_bit8(im, 4000)\n",
    "    fname = split(impath)[1].split('.')[0]\n",
    "    Image.fromarray(im).save(join(preproc_output_dir, fname+'.png'))"
   ]
  },
  {
   "cell_type": "code",
   "execution_count": 8,
   "metadata": {},
   "outputs": [],
   "source": [
    "# once enough images have been annotated, copy the images and their annotations to a folder named the current datetime\n",
    "dataset_dir = join(data_dir, 'annotated_datasets')\n",
    "dataset_dir = copy_annotated(input_folder=preproc_output_dir, output_folder=dataset_dir)"
   ]
  },
  {
   "cell_type": "code",
   "execution_count": 10,
   "metadata": {},
   "outputs": [
    {
     "name": "stdout",
     "output_type": "stream",
     "text": [
      "Average pixel value(s) is(/are): [5.44183715]\n"
     ]
    }
   ],
   "source": [
    "ds = CellTransformData()\n",
    "ds.load_cell(dataset_dir)\n",
    "ds.prepare()\n",
    "avg_pixel_vals = ds.split_to_trainval(dataset_dir)"
   ]
  },
  {
   "cell_type": "code",
   "execution_count": 9,
   "metadata": {},
   "outputs": [
    {
     "name": "stdout",
     "output_type": "stream",
     "text": [
      "[5.441837151845296]\n"
     ]
    }
   ],
   "source": [
    "impaths = glob(join(dataset_dir, '**/*.png'), recursive=True)\n",
    "avg_pixel_vals = calc_avg_pixel_value(impaths)\n",
    "print(avg_pixel_vals)"
   ]
  }
 ],
 "metadata": {
  "kernelspec": {
   "display_name": "cell_mrcnn",
   "language": "python",
   "name": "cell_mrcnn"
  },
  "language_info": {
   "codemirror_mode": {
    "name": "ipython",
    "version": 3
   },
   "file_extension": ".py",
   "mimetype": "text/x-python",
   "name": "python",
   "nbconvert_exporter": "python",
   "pygments_lexer": "ipython3",
   "version": "3.7.9"
  }
 },
 "nbformat": 4,
 "nbformat_minor": 4
}
